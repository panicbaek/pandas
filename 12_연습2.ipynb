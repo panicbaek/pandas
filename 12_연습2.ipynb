{
 "cells": [
  {
   "cell_type": "code",
   "execution_count": 18,
   "id": "5dad6adc",
   "metadata": {},
   "outputs": [
    {
     "name": "stdout",
     "output_type": "stream",
     "text": [
      "<class 'pandas.core.frame.DataFrame'>\n",
      "RangeIndex: 90 entries, 0 to 89\n",
      "Data columns (total 6 columns):\n",
      " #   Column      Non-Null Count  Dtype   \n",
      "---  ------      --------------  -----   \n",
      " 0   Unnamed: 0  90 non-null     int64   \n",
      " 1   id          90 non-null     int64   \n",
      " 2   diet        90 non-null     category\n",
      " 3   pulse       90 non-null     int64   \n",
      " 4   time        90 non-null     category\n",
      " 5   kind        90 non-null     category\n",
      "dtypes: category(3), int64(3)\n",
      "memory usage: 2.9 KB\n"
     ]
    }
   ],
   "source": [
    "import seaborn as sns\n",
    "import pandas as pd\n",
    "\n",
    "df = sns.load_dataset('exercise')\n",
    "\n",
    "df.info()\n"
   ]
  },
  {
   "cell_type": "code",
   "execution_count": null,
   "id": "456de6f8",
   "metadata": {},
   "outputs": [
    {
     "data": {
      "text/plain": [
       "Unnamed: 0  id  diet     pulse  time    kind   \n",
       "0           1   low fat  85     1 min   rest       1\n",
       "1           1   low fat  85     15 min  rest       1\n",
       "2           1   low fat  88     30 min  rest       1\n",
       "3           2   low fat  90     1 min   rest       1\n",
       "4           2   low fat  92     15 min  rest       1\n",
       "                                                  ..\n",
       "85          29  no fat   135    15 min  running    1\n",
       "86          29  no fat   130    30 min  running    1\n",
       "87          30  no fat   99     1 min   running    1\n",
       "88          30  no fat   111    15 min  running    1\n",
       "89          30  no fat   150    30 min  running    1\n",
       "Name: count, Length: 90, dtype: int64"
      ]
     },
     "execution_count": 21,
     "metadata": {},
     "output_type": "execute_result"
    }
   ],
   "source": []
  }
 ],
 "metadata": {
  "kernelspec": {
   "display_name": "venv",
   "language": "python",
   "name": "python3"
  },
  "language_info": {
   "codemirror_mode": {
    "name": "ipython",
    "version": 3
   },
   "file_extension": ".py",
   "mimetype": "text/x-python",
   "name": "python",
   "nbconvert_exporter": "python",
   "pygments_lexer": "ipython3",
   "version": "3.11.9"
  }
 },
 "nbformat": 4,
 "nbformat_minor": 5
}
