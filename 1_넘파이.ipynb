{
 "cells": [
  {
   "cell_type": "code",
   "execution_count": 3,
   "id": "fe2ce8c6",
   "metadata": {},
   "outputs": [
    {
     "name": "stdout",
     "output_type": "stream",
     "text": [
      "[0 1 2 3 4 5]\n",
      "<class 'numpy.ndarray'>\n"
     ]
    }
   ],
   "source": [
    "import numpy as np # np는 별칭임\n",
    "\n",
    "data = [0,1,2,3,4,5]\n",
    "a1 = np.array(data) # 리스트를 넘파이 배열로 생성\n",
    "print(a1)\n",
    "print( type(a1) )"
   ]
  },
  {
   "cell_type": "code",
   "execution_count": 5,
   "id": "bfbc53b2",
   "metadata": {},
   "outputs": [
    {
     "name": "stdout",
     "output_type": "stream",
     "text": [
      "[0.   1.   2.   3.   0.5  3.14]\n"
     ]
    }
   ],
   "source": [
    "data2 = [0,1,2,3,0.5,3.14]\n",
    "a2 = np.array(data2)\n",
    "#정수와 실수가 섞여있으면 전부 실수로 변환\n",
    "print( a2 )"
   ]
  },
  {
   "cell_type": "code",
   "execution_count": 9,
   "id": "f9ada0bc",
   "metadata": {},
   "outputs": [
    {
     "name": "stdout",
     "output_type": "stream",
     "text": [
      "(3,)\n",
      "float64\n"
     ]
    }
   ],
   "source": [
    "x = np.array([0.1, 0.2, 0.3])\n",
    "print( x.shape ) # 배열 구조를 리턴\n",
    "print( x.dtype ) # 배열요소들의 타입을 리턴"
   ]
  },
  {
   "cell_type": "code",
   "execution_count": 13,
   "id": "de0bf640",
   "metadata": {},
   "outputs": [
    {
     "name": "stdout",
     "output_type": "stream",
     "text": [
      "(2, 3)\n",
      "int64\n"
     ]
    }
   ],
   "source": [
    "y = np.array( ([1,2,3,], [4,5,6]) )\n",
    "print(y.shape)\n",
    "print(y.dtype)"
   ]
  },
  {
   "cell_type": "code",
   "execution_count": 17,
   "id": "1c82c30e",
   "metadata": {},
   "outputs": [
    {
     "name": "stdout",
     "output_type": "stream",
     "text": [
      "[1 2 3 4 5 6 7 8 9]\n",
      "<class 'numpy.ndarray'>\n"
     ]
    }
   ],
   "source": [
    "a3 = np.arange(1, 10)\n",
    "print(a3)\n",
    "print( type(a3) )"
   ]
  },
  {
   "cell_type": "code",
   "execution_count": 19,
   "id": "59695618",
   "metadata": {},
   "outputs": [
    {
     "name": "stdout",
     "output_type": "stream",
     "text": [
      "[1 3 5 7 9]\n"
     ]
    }
   ],
   "source": [
    "a4 = np.arange(1, 10, 2)\n",
    "print(a4)"
   ]
  },
  {
   "cell_type": "code",
   "execution_count": 23,
   "id": "6dc2d639",
   "metadata": {},
   "outputs": [
    {
     "name": "stdout",
     "output_type": "stream",
     "text": [
      "[[ 0  1  2]\n",
      " [ 3  4  5]\n",
      " [ 6  7  8]\n",
      " [ 9 10 11]]\n",
      "(4, 3)\n"
     ]
    }
   ],
   "source": [
    "a5 = np.arange(12).reshape(4, 3)\n",
    "print( a5 )\n",
    "print( a5.shape )"
   ]
  },
  {
   "cell_type": "code",
   "execution_count": 28,
   "id": "a72f7c61",
   "metadata": {},
   "outputs": [
    {
     "name": "stdout",
     "output_type": "stream",
     "text": [
      "[ 1.  2.  3.  4.  5.  6.  7.  8.  9. 10.]\n",
      "[ 1.    3.25  5.5   7.75 10.  ]\n"
     ]
    }
   ],
   "source": [
    "# 개수지정해서 배열 만들기\n",
    "a6 = np.linspace(1, 10, 10)\n",
    "print(a6)\n",
    "a6 = np.linspace(1, 10, 5) \n",
    "print(a6)"
   ]
  },
  {
   "cell_type": "code",
   "execution_count": 30,
   "id": "56d2860f",
   "metadata": {},
   "outputs": [
    {
     "name": "stdout",
     "output_type": "stream",
     "text": [
      "[0.         0.16534698 0.33069396 0.49604095 0.66138793 0.82673491\n",
      " 0.99208189 1.15742887 1.32277585 1.48812284 1.65346982 1.8188168\n",
      " 1.98416378 2.14951076 2.31485774 2.48020473 2.64555171 2.81089869\n",
      " 2.97624567 3.14159265]\n"
     ]
    }
   ],
   "source": [
    "a7 = np.linspace(0, np.pi, 20)\n",
    "print(a7)"
   ]
  },
  {
   "cell_type": "code",
   "execution_count": 32,
   "id": "e128074b",
   "metadata": {},
   "outputs": [
    {
     "name": "stdout",
     "output_type": "stream",
     "text": [
      "[0. 0. 0. 0. 0. 0. 0. 0. 0. 0.]\n"
     ]
    }
   ],
   "source": [
    "a8 = np.zeros(10)\n",
    "print( a8 )"
   ]
  },
  {
   "cell_type": "code",
   "execution_count": 34,
   "id": "8adffc23",
   "metadata": {},
   "outputs": [
    {
     "name": "stdout",
     "output_type": "stream",
     "text": [
      "[[0. 0. 0. 0.]\n",
      " [0. 0. 0. 0.]\n",
      " [0. 0. 0. 0.]]\n"
     ]
    }
   ],
   "source": [
    "a9 = np.zeros( (3,4) )\n",
    "print(a9)"
   ]
  },
  {
   "cell_type": "code",
   "execution_count": 35,
   "id": "9e7fe87b",
   "metadata": {},
   "outputs": [
    {
     "name": "stdout",
     "output_type": "stream",
     "text": [
      "[1. 1. 1. 1. 1.]\n"
     ]
    }
   ],
   "source": [
    "a10 = np.ones(5)\n",
    "print(a10)"
   ]
  },
  {
   "cell_type": "code",
   "execution_count": 36,
   "id": "d6901890",
   "metadata": {},
   "outputs": [
    {
     "name": "stdout",
     "output_type": "stream",
     "text": [
      "[[1. 1.]\n",
      " [1. 1.]\n",
      " [1. 1.]]\n"
     ]
    }
   ],
   "source": [
    "a11 = np.ones( (3,2) )\n",
    "print(a11)"
   ]
  },
  {
   "cell_type": "code",
   "execution_count": 38,
   "id": "fb4493a2",
   "metadata": {},
   "outputs": [
    {
     "name": "stdout",
     "output_type": "stream",
     "text": [
      "[[1. 0. 0. 0. 0.]\n",
      " [0. 1. 0. 0. 0.]\n",
      " [0. 0. 1. 0. 0.]\n",
      " [0. 0. 0. 1. 0.]\n",
      " [0. 0. 0. 0. 1.]]\n"
     ]
    }
   ],
   "source": [
    "a12 = np.eye(5)\n",
    "print(a12)"
   ]
  },
  {
   "cell_type": "code",
   "execution_count": 40,
   "id": "b74f33fc",
   "metadata": {},
   "outputs": [
    {
     "name": "stdout",
     "output_type": "stream",
     "text": [
      "['1.5' '3.14' '3' '12']\n",
      "<U4\n"
     ]
    }
   ],
   "source": [
    "a13 = np.array(['1.5', '3.14', '3', '12'])\n",
    "print(a13)\n",
    "print(a13.dtype)"
   ]
  },
  {
   "cell_type": "code",
   "execution_count": 42,
   "id": "a4ad82a4",
   "metadata": {},
   "outputs": [
    {
     "name": "stdout",
     "output_type": "stream",
     "text": [
      "[ 1.5   3.14  3.   12.  ]\n",
      "float64\n"
     ]
    }
   ],
   "source": [
    "num_a13 = a13.astype(float)\n",
    "print(num_a13)\n",
    "print(num_a13.dtype)"
   ]
  },
  {
   "cell_type": "code",
   "execution_count": 45,
   "id": "4c9f0150",
   "metadata": {},
   "outputs": [
    {
     "name": "stdout",
     "output_type": "stream",
     "text": [
      "[1 2 3 4]\n"
     ]
    }
   ],
   "source": [
    "a14 = np.array(['1','2','3','4'])\n",
    "int_a14 = a14.astype(int)\n",
    "print(int_a14)"
   ]
  },
  {
   "cell_type": "code",
   "execution_count": 46,
   "id": "4099ff59",
   "metadata": {},
   "outputs": [
    {
     "name": "stdout",
     "output_type": "stream",
     "text": [
      "[[0.29265878 0.84344131 0.46406348]\n",
      " [0.18485846 0.80372073 0.56216752]]\n"
     ]
    }
   ],
   "source": [
    "a15 = np.random.rand(2, 3)\n",
    "print(a15) # 난수 생성"
   ]
  },
  {
   "cell_type": "code",
   "execution_count": 47,
   "id": "8850cf3a",
   "metadata": {},
   "outputs": [
    {
     "name": "stdout",
     "output_type": "stream",
     "text": [
      "[[4 4 7 5]\n",
      " [2 7 0 1]\n",
      " [3 7 8 9]]\n"
     ]
    }
   ],
   "source": [
    "a17 = np.random.randint(10, size=(3,4)) # 칸 수 지정\n",
    "print(a17)"
   ]
  },
  {
   "cell_type": "code",
   "execution_count": 49,
   "id": "0c168e54",
   "metadata": {},
   "outputs": [
    {
     "name": "stdout",
     "output_type": "stream",
     "text": [
      "[1, 2, 3, 3, 5, 6]\n"
     ]
    }
   ],
   "source": [
    "list1 = [1,2,3]\n",
    "list2 = [3,5,6]\n",
    "list3 = list1 + list2\n",
    "print(list3)"
   ]
  },
  {
   "cell_type": "code",
   "execution_count": 50,
   "id": "cee804d9",
   "metadata": {},
   "outputs": [
    {
     "name": "stdout",
     "output_type": "stream",
     "text": [
      "[5 7 9]\n"
     ]
    }
   ],
   "source": [
    "arr1 = np.array([1,2,3])\n",
    "arr2 = np.array([4,5,6])\n",
    "result = arr1 + arr2\n",
    "print(result) "
   ]
  },
  {
   "cell_type": "code",
   "execution_count": 51,
   "id": "a870a8cc",
   "metadata": {},
   "outputs": [
    {
     "name": "stdout",
     "output_type": "stream",
     "text": [
      "[ 4 10 18]\n"
     ]
    }
   ],
   "source": [
    "result = arr1 * arr2\n",
    "print(result)"
   ]
  },
  {
   "cell_type": "code",
   "execution_count": 54,
   "id": "c8f29b7f",
   "metadata": {},
   "outputs": [
    {
     "name": "stdout",
     "output_type": "stream",
     "text": [
      "[1, 2, 3, 1, 2, 3, 1, 2, 3]\n"
     ]
    }
   ],
   "source": [
    "result = list1 * 3 # list 는 리스트 자체가 * 3 이 되고\n",
    "print(result)"
   ]
  },
  {
   "cell_type": "code",
   "execution_count": 55,
   "id": "afe7b04c",
   "metadata": {},
   "outputs": [
    {
     "name": "stdout",
     "output_type": "stream",
     "text": [
      "[3 6 9]\n"
     ]
    }
   ],
   "source": [
    "result = arr1 * 3 # index 배열은 배열안에 값이 * 3 된다\n",
    "print(result)"
   ]
  },
  {
   "cell_type": "code",
   "execution_count": 57,
   "id": "678467f8",
   "metadata": {},
   "outputs": [
    {
     "name": "stdout",
     "output_type": "stream",
     "text": [
      "[False  True  True]\n"
     ]
    }
   ],
   "source": [
    "result = (arr1 >= 2 ) # 논리연산도 가능함\n",
    "print(result)"
   ]
  },
  {
   "cell_type": "code",
   "execution_count": 58,
   "id": "04683b70",
   "metadata": {},
   "outputs": [
    {
     "name": "stdout",
     "output_type": "stream",
     "text": [
      "[0 1 2 3 4]\n"
     ]
    }
   ],
   "source": [
    "arr = np.arange(5)\n",
    "print(arr)"
   ]
  },
  {
   "cell_type": "code",
   "execution_count": 59,
   "id": "85a1b08d",
   "metadata": {},
   "outputs": [
    {
     "name": "stdout",
     "output_type": "stream",
     "text": [
      "10\n",
      "2.0\n",
      "4\n",
      "0\n",
      "1.4142135623730951\n",
      "2.0\n"
     ]
    }
   ],
   "source": [
    "print( arr.sum() ) # 합계\n",
    "print( arr.mean() ) # 평균\n",
    "print( arr.max() ) # 최대값\n",
    "print( arr.min() ) # 최소값\n",
    "print( arr.std() ) # 표준편차\n",
    "print( arr.var() ) # 분산"
   ]
  },
  {
   "cell_type": "code",
   "execution_count": 61,
   "id": "eaf51665",
   "metadata": {},
   "outputs": [
    {
     "name": "stdout",
     "output_type": "stream",
     "text": [
      "3\n",
      "6\n"
     ]
    }
   ],
   "source": [
    "# 인덱싱\n",
    "arr = np.array([1,2,3,4,5,6,])\n",
    "print(arr[2])\n",
    "print(arr[-1])"
   ]
  },
  {
   "cell_type": "code",
   "execution_count": 64,
   "id": "f7de747f",
   "metadata": {},
   "outputs": [
    {
     "name": "stdout",
     "output_type": "stream",
     "text": [
      "[3 4]\n",
      "[1 2 3]\n",
      "[4 5 6]\n"
     ]
    }
   ],
   "source": [
    "# 슬라이싱\n",
    "print(arr[2:4])\n",
    "print(arr[:3])\n",
    "print(arr[3:])"
   ]
  },
  {
   "cell_type": "code",
   "execution_count": 69,
   "id": "dcc73e2d",
   "metadata": {},
   "outputs": [
    {
     "name": "stdout",
     "output_type": "stream",
     "text": [
      "[[ 5  7]\n",
      " [ 9 12]]\n",
      "[[-3 -3]\n",
      " [-3 -4]]\n",
      "[[16 21]\n",
      " [36 47]]\n"
     ]
    }
   ],
   "source": [
    "# 행렬 연산\n",
    "m1 = np.array([[1,2], [3,4]])\n",
    "m2 = np.array([[4,5], [6,8]])\n",
    "# 행렬 합\n",
    "result = np.add(m1, m2) # m1 + m2\n",
    "print(result)\n",
    "# 행렬 뺄셈\n",
    "result = np.subtract( m1, m2 )\n",
    "print(result)\n",
    "# 행렬 곱 \n",
    "result = np.dot(m1, m2)\n",
    "print(result)"
   ]
  },
  {
   "cell_type": "code",
   "execution_count": 74,
   "id": "90a0d53d",
   "metadata": {},
   "outputs": [
    {
     "name": "stdout",
     "output_type": "stream",
     "text": [
      "[1 3 5 6 8]\n",
      "[3 1 4 2 0]\n",
      "3\n",
      "0\n"
     ]
    }
   ],
   "source": [
    "arr = np.array([8,3,6,1,5])\n",
    "print(np.sort(arr)) # 정렬\n",
    "print(np.argsort(arr)) # 정렬된 원래 인덱스번호\n",
    "\n",
    "print(np.argmin(arr)) # 값이 제일 낮은 인덱스번호\n",
    "print(np.argmax(arr)) # 값이 제일 높은 인덱스번호"
   ]
  },
  {
   "cell_type": "code",
   "execution_count": null,
   "id": "64c3b294",
   "metadata": {},
   "outputs": [
    {
     "name": "stdout",
     "output_type": "stream",
     "text": [
      "(3,)\n",
      "(3, 1)\n",
      "[[5 6 7]\n",
      " [6 7 8]\n",
      " [7 8 9]]\n",
      "(3, 3)\n"
     ]
    }
   ],
   "source": [
    "# 브로드캐스팅 \n",
    "# 배열간 크기가 다른 경우에도 연산을 해주는 기능\n",
    "# 각 배열의 shape를 비교\n",
    "# 뒤에서 차원 비교를 수행 -> 차원이 같거나 하나가 1이면 호환\n",
    "a = np.array([1,2,3])\n",
    "b = np.array([[4],[5],[6]])\n",
    "print(a.shape)\n",
    "print(b.shape)\n",
    "\n",
    "c = a + b\n",
    "print(c)\n",
    "print(c.shape)"
   ]
  }
 ],
 "metadata": {
  "kernelspec": {
   "display_name": "venv",
   "language": "python",
   "name": "python3"
  },
  "language_info": {
   "codemirror_mode": {
    "name": "ipython",
    "version": 3
   },
   "file_extension": ".py",
   "mimetype": "text/x-python",
   "name": "python",
   "nbconvert_exporter": "python",
   "pygments_lexer": "ipython3",
   "version": "3.11.9"
  }
 },
 "nbformat": 4,
 "nbformat_minor": 5
}
