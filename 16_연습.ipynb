{
 "cells": [
  {
   "cell_type": "code",
   "execution_count": 3,
   "id": "2eb43c47",
   "metadata": {},
   "outputs": [
    {
     "ename": "OSError",
     "evalue": "cannot open resource",
     "output_type": "error",
     "traceback": [
      "\u001b[31m---------------------------------------------------------------------------\u001b[39m",
      "\u001b[31mOSError\u001b[39m                                   Traceback (most recent call last)",
      "\u001b[36mCell\u001b[39m\u001b[36m \u001b[39m\u001b[32mIn[3]\u001b[39m\u001b[32m, line 15\u001b[39m\n\u001b[32m      4\u001b[39m text = \u001b[33m\"\"\"\u001b[39m\n\u001b[32m      5\u001b[39m \u001b[33m파이썬 데이터 분석 머신러닝 인공지능 시각화 판다스 넘파이 matplotlib seaborn\u001b[39m\n\u001b[32m      6\u001b[39m \u001b[33m텍스트 마이닝 워드클라우드 형태소 분석 konlpy 자연어처리 데이터 전처리\u001b[39m\n\u001b[32m      7\u001b[39m \u001b[33m\"\"\"\u001b[39m\n\u001b[32m      9\u001b[39m wc = WordCloud(\n\u001b[32m     10\u001b[39m   font_path=\u001b[33m'\u001b[39m\u001b[33mC:\u001b[39m\u001b[33m\\\u001b[39m\u001b[33mWindows\u001b[39m\u001b[33m\\\u001b[39m\u001b[33mFonts\u001b[39m\u001b[33m'\u001b[39m, \u001b[38;5;66;03m# font 경로 설정\u001b[39;00m\n\u001b[32m     11\u001b[39m   width=\u001b[32m800\u001b[39m, height=\u001b[32m400\u001b[39m,\n\u001b[32m     12\u001b[39m   background_color=\u001b[33m'\u001b[39m\u001b[33mwhite\u001b[39m\u001b[33m'\u001b[39m\n\u001b[32m     13\u001b[39m )\n\u001b[32m---> \u001b[39m\u001b[32m15\u001b[39m \u001b[43mwc\u001b[49m\u001b[43m.\u001b[49m\u001b[43mgenerate\u001b[49m\u001b[43m(\u001b[49m\u001b[43mtext\u001b[49m\u001b[43m)\u001b[49m\n\u001b[32m     17\u001b[39m plt.figure()\n\u001b[32m     18\u001b[39m plt.imshow(wc)\n",
      "\u001b[36mFile \u001b[39m\u001b[32md:\\woosik\\pandars\\venv\\Lib\\site-packages\\wordcloud\\wordcloud.py:642\u001b[39m, in \u001b[36mWordCloud.generate\u001b[39m\u001b[34m(self, text)\u001b[39m\n\u001b[32m    627\u001b[39m \u001b[38;5;28;01mdef\u001b[39;00m\u001b[38;5;250m \u001b[39m\u001b[34mgenerate\u001b[39m(\u001b[38;5;28mself\u001b[39m, text):\n\u001b[32m    628\u001b[39m \u001b[38;5;250m    \u001b[39m\u001b[33;03m\"\"\"Generate wordcloud from text.\u001b[39;00m\n\u001b[32m    629\u001b[39m \n\u001b[32m    630\u001b[39m \u001b[33;03m    The input \"text\" is expected to be a natural text. If you pass a sorted\u001b[39;00m\n\u001b[32m   (...)\u001b[39m\u001b[32m    640\u001b[39m \u001b[33;03m    self\u001b[39;00m\n\u001b[32m    641\u001b[39m \u001b[33;03m    \"\"\"\u001b[39;00m\n\u001b[32m--> \u001b[39m\u001b[32m642\u001b[39m     \u001b[38;5;28;01mreturn\u001b[39;00m \u001b[38;5;28;43mself\u001b[39;49m\u001b[43m.\u001b[49m\u001b[43mgenerate_from_text\u001b[49m\u001b[43m(\u001b[49m\u001b[43mtext\u001b[49m\u001b[43m)\u001b[49m\n",
      "\u001b[36mFile \u001b[39m\u001b[32md:\\woosik\\pandars\\venv\\Lib\\site-packages\\wordcloud\\wordcloud.py:624\u001b[39m, in \u001b[36mWordCloud.generate_from_text\u001b[39m\u001b[34m(self, text)\u001b[39m\n\u001b[32m    607\u001b[39m \u001b[38;5;250m\u001b[39m\u001b[33;03m\"\"\"Generate wordcloud from text.\u001b[39;00m\n\u001b[32m    608\u001b[39m \n\u001b[32m    609\u001b[39m \u001b[33;03mThe input \"text\" is expected to be a natural text. If you pass a sorted\u001b[39;00m\n\u001b[32m   (...)\u001b[39m\u001b[32m    621\u001b[39m \u001b[33;03mself\u001b[39;00m\n\u001b[32m    622\u001b[39m \u001b[33;03m\"\"\"\u001b[39;00m\n\u001b[32m    623\u001b[39m words = \u001b[38;5;28mself\u001b[39m.process_text(text)\n\u001b[32m--> \u001b[39m\u001b[32m624\u001b[39m \u001b[38;5;28;43mself\u001b[39;49m\u001b[43m.\u001b[49m\u001b[43mgenerate_from_frequencies\u001b[49m\u001b[43m(\u001b[49m\u001b[43mwords\u001b[49m\u001b[43m)\u001b[49m\n\u001b[32m    625\u001b[39m \u001b[38;5;28;01mreturn\u001b[39;00m \u001b[38;5;28mself\u001b[39m\n",
      "\u001b[36mFile \u001b[39m\u001b[32md:\\woosik\\pandars\\venv\\Lib\\site-packages\\wordcloud\\wordcloud.py:453\u001b[39m, in \u001b[36mWordCloud.generate_from_frequencies\u001b[39m\u001b[34m(self, frequencies, max_font_size)\u001b[39m\n\u001b[32m    451\u001b[39m     font_size = \u001b[38;5;28mself\u001b[39m.height\n\u001b[32m    452\u001b[39m \u001b[38;5;28;01melse\u001b[39;00m:\n\u001b[32m--> \u001b[39m\u001b[32m453\u001b[39m     \u001b[38;5;28;43mself\u001b[39;49m\u001b[43m.\u001b[49m\u001b[43mgenerate_from_frequencies\u001b[49m\u001b[43m(\u001b[49m\u001b[38;5;28;43mdict\u001b[39;49m\u001b[43m(\u001b[49m\u001b[43mfrequencies\u001b[49m\u001b[43m[\u001b[49m\u001b[43m:\u001b[49m\u001b[32;43m2\u001b[39;49m\u001b[43m]\u001b[49m\u001b[43m)\u001b[49m\u001b[43m,\u001b[49m\n\u001b[32m    454\u001b[39m \u001b[43m                                   \u001b[49m\u001b[43mmax_font_size\u001b[49m\u001b[43m=\u001b[49m\u001b[38;5;28;43mself\u001b[39;49m\u001b[43m.\u001b[49m\u001b[43mheight\u001b[49m\u001b[43m)\u001b[49m\n\u001b[32m    455\u001b[39m     \u001b[38;5;66;03m# find font sizes\u001b[39;00m\n\u001b[32m    456\u001b[39m     sizes = [x[\u001b[32m1\u001b[39m] \u001b[38;5;28;01mfor\u001b[39;00m x \u001b[38;5;129;01min\u001b[39;00m \u001b[38;5;28mself\u001b[39m.layout_]\n",
      "\u001b[36mFile \u001b[39m\u001b[32md:\\woosik\\pandars\\venv\\Lib\\site-packages\\wordcloud\\wordcloud.py:506\u001b[39m, in \u001b[36mWordCloud.generate_from_frequencies\u001b[39m\u001b[34m(self, frequencies, max_font_size)\u001b[39m\n\u001b[32m    504\u001b[39m     \u001b[38;5;28;01mbreak\u001b[39;00m\n\u001b[32m    505\u001b[39m \u001b[38;5;66;03m# try to find a position\u001b[39;00m\n\u001b[32m--> \u001b[39m\u001b[32m506\u001b[39m font = \u001b[43mImageFont\u001b[49m\u001b[43m.\u001b[49m\u001b[43mtruetype\u001b[49m\u001b[43m(\u001b[49m\u001b[38;5;28;43mself\u001b[39;49m\u001b[43m.\u001b[49m\u001b[43mfont_path\u001b[49m\u001b[43m,\u001b[49m\u001b[43m \u001b[49m\u001b[43mfont_size\u001b[49m\u001b[43m)\u001b[49m\n\u001b[32m    507\u001b[39m \u001b[38;5;66;03m# transpose font optionally\u001b[39;00m\n\u001b[32m    508\u001b[39m transposed_font = ImageFont.TransposedFont(\n\u001b[32m    509\u001b[39m     font, orientation=orientation)\n",
      "\u001b[36mFile \u001b[39m\u001b[32md:\\woosik\\pandars\\venv\\Lib\\site-packages\\PIL\\ImageFont.py:880\u001b[39m, in \u001b[36mtruetype\u001b[39m\u001b[34m(font, size, index, encoding, layout_engine)\u001b[39m\n\u001b[32m    877\u001b[39m     \u001b[38;5;28;01mreturn\u001b[39;00m FreeTypeFont(font, size, index, encoding, layout_engine)\n\u001b[32m    879\u001b[39m \u001b[38;5;28;01mtry\u001b[39;00m:\n\u001b[32m--> \u001b[39m\u001b[32m880\u001b[39m     \u001b[38;5;28;01mreturn\u001b[39;00m \u001b[43mfreetype\u001b[49m\u001b[43m(\u001b[49m\u001b[43mfont\u001b[49m\u001b[43m)\u001b[49m\n\u001b[32m    881\u001b[39m \u001b[38;5;28;01mexcept\u001b[39;00m \u001b[38;5;167;01mOSError\u001b[39;00m:\n\u001b[32m    882\u001b[39m     \u001b[38;5;28;01mif\u001b[39;00m \u001b[38;5;129;01mnot\u001b[39;00m is_path(font):\n",
      "\u001b[36mFile \u001b[39m\u001b[32md:\\woosik\\pandars\\venv\\Lib\\site-packages\\PIL\\ImageFont.py:877\u001b[39m, in \u001b[36mtruetype.<locals>.freetype\u001b[39m\u001b[34m(font)\u001b[39m\n\u001b[32m    876\u001b[39m \u001b[38;5;28;01mdef\u001b[39;00m\u001b[38;5;250m \u001b[39m\u001b[34mfreetype\u001b[39m(font: StrOrBytesPath | BinaryIO) -> FreeTypeFont:\n\u001b[32m--> \u001b[39m\u001b[32m877\u001b[39m     \u001b[38;5;28;01mreturn\u001b[39;00m \u001b[43mFreeTypeFont\u001b[49m\u001b[43m(\u001b[49m\u001b[43mfont\u001b[49m\u001b[43m,\u001b[49m\u001b[43m \u001b[49m\u001b[43msize\u001b[49m\u001b[43m,\u001b[49m\u001b[43m \u001b[49m\u001b[43mindex\u001b[49m\u001b[43m,\u001b[49m\u001b[43m \u001b[49m\u001b[43mencoding\u001b[49m\u001b[43m,\u001b[49m\u001b[43m \u001b[49m\u001b[43mlayout_engine\u001b[49m\u001b[43m)\u001b[49m\n",
      "\u001b[36mFile \u001b[39m\u001b[32md:\\woosik\\pandars\\venv\\Lib\\site-packages\\PIL\\ImageFont.py:285\u001b[39m, in \u001b[36mFreeTypeFont.__init__\u001b[39m\u001b[34m(self, font, size, index, encoding, layout_engine)\u001b[39m\n\u001b[32m    283\u001b[39m                 load_from_bytes(f)\n\u001b[32m    284\u001b[39m             \u001b[38;5;28;01mreturn\u001b[39;00m\n\u001b[32m--> \u001b[39m\u001b[32m285\u001b[39m     \u001b[38;5;28mself\u001b[39m.font = \u001b[43mcore\u001b[49m\u001b[43m.\u001b[49m\u001b[43mgetfont\u001b[49m\u001b[43m(\u001b[49m\n\u001b[32m    286\u001b[39m \u001b[43m        \u001b[49m\u001b[43mfont\u001b[49m\u001b[43m,\u001b[49m\u001b[43m \u001b[49m\u001b[43msize\u001b[49m\u001b[43m,\u001b[49m\u001b[43m \u001b[49m\u001b[43mindex\u001b[49m\u001b[43m,\u001b[49m\u001b[43m \u001b[49m\u001b[43mencoding\u001b[49m\u001b[43m,\u001b[49m\u001b[43m \u001b[49m\u001b[43mlayout_engine\u001b[49m\u001b[43m=\u001b[49m\u001b[43mlayout_engine\u001b[49m\n\u001b[32m    287\u001b[39m \u001b[43m    \u001b[49m\u001b[43m)\u001b[49m\n\u001b[32m    288\u001b[39m \u001b[38;5;28;01melse\u001b[39;00m:\n\u001b[32m    289\u001b[39m     load_from_bytes(cast(IO[\u001b[38;5;28mbytes\u001b[39m], font))\n",
      "\u001b[31mOSError\u001b[39m: cannot open resource"
     ]
    }
   ],
   "source": [
    "from wordcloud import WordCloud\n",
    "import matplotlib.pyplot as plt\n",
    "\n",
    "text = \"\"\"\n",
    "파이썬 데이터 분석 머신러닝 인공지능 시각화 판다스 넘파이 matplotlib seaborn\n",
    "텍스트 마이닝 워드클라우드 형태소 분석 konlpy 자연어처리 데이터 전처리\n",
    "\"\"\"\n",
    "\n",
    "wc = WordCloud(\n",
    "  font_path='C:\\Windows\\Fonts', # font 경로 설정\n",
    "  width=800, height=400,\n",
    "  background_color='white'\n",
    ")\n",
    "\n",
    "wc.generate(text)\n",
    "\n",
    "plt.figure()\n",
    "plt.imshow(wc)\n",
    "plt.axis('off')\n",
    "plt.show()"
   ]
  }
 ],
 "metadata": {
  "kernelspec": {
   "display_name": "venv",
   "language": "python",
   "name": "python3"
  },
  "language_info": {
   "codemirror_mode": {
    "name": "ipython",
    "version": 3
   },
   "file_extension": ".py",
   "mimetype": "text/x-python",
   "name": "python",
   "nbconvert_exporter": "python",
   "pygments_lexer": "ipython3",
   "version": "3.11.9"
  }
 },
 "nbformat": 4,
 "nbformat_minor": 5
}
