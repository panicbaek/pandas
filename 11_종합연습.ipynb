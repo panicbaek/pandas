{
 "cells": [
  {
   "cell_type": "code",
   "execution_count": 121,
   "id": "71dac45d",
   "metadata": {},
   "outputs": [],
   "source": [
    "import pandas as pd\n",
    "\n",
    "customers = pd.read_csv('data/customers.csv', parse_dates=['signup_date'])\n",
    "products = pd.read_csv('data/products.csv')\n",
    "orders = pd.read_csv('data/orders.csv', parse_dates=['order_date'])\n"
   ]
  },
  {
   "cell_type": "code",
   "execution_count": 128,
   "id": "180aeee6",
   "metadata": {},
   "outputs": [
    {
     "name": "stdout",
     "output_type": "stream",
     "text": [
      "=== orders 결측치 확인 ===\n",
      "order_id      0\n",
      "user_id       0\n",
      "order_date    0\n",
      "product_id    0\n",
      "qty           0\n",
      "unit_price    1\n",
      "region        2\n",
      "dtype: int64\n",
      "=== products 결측치 확인 ===\n",
      "product_id    0\n",
      "category      1\n",
      "brand         2\n",
      "dtype: int64\n",
      "=== customers 결측치 확인 ===\n",
      "user_id        0\n",
      "signup_date    0\n",
      "gender         2\n",
      "age_group      1\n",
      "region         2\n",
      "dtype: int64\n"
     ]
    }
   ],
   "source": [
    "# 결측치 확인\n",
    "print('=== orders 결측치 확인 ===')\n",
    "print(orders.isna().sum())\n",
    "print('=== products 결측치 확인 ===')\n",
    "print(products.isna().sum())\n",
    "print('=== customers 결측치 확인 ===')\n",
    "print(customers.isna().sum())"
   ]
  },
  {
   "cell_type": "code",
   "execution_count": 130,
   "id": "fc35aea0",
   "metadata": {},
   "outputs": [
    {
     "name": "stdout",
     "output_type": "stream",
     "text": [
      "중복등록된 주문 수 : 0\n"
     ]
    }
   ],
   "source": [
    "dup_orders = orders.duplicated().sum()  # 중복확인 함수\n",
    "print(f\"중복등록된 주문 수 : {dup_orders}\")"
   ]
  },
  {
   "cell_type": "code",
   "execution_count": 133,
   "id": "de334da4",
   "metadata": {},
   "outputs": [
    {
     "name": "stdout",
     "output_type": "stream",
     "text": [
      "=== 총 정리 ===\n",
      "customer 수 : 150\n",
      "orders 수 : 2500\n",
      "products 수 : 80\n",
      "중복등록된 주문 수 : 0\n",
      "orders의 결측치 수 : 3\n"
     ]
    }
   ],
   "source": [
    "print(\"=== 총 정리 ===\")\n",
    "print(f\"customer 수 : {len(customers)}\")\n",
    "print(f\"orders 수 : {len(orders)}\")\n",
    "print(f\"products 수 : {len(products)}\")\n",
    "\n",
    "print(f\"중복등록된 주문 수 : {dup_orders}\")\n",
    "print(f\"orders의 결측치 수 : {orders.isna().sum().sum()}\")"
   ]
  },
  {
   "cell_type": "code",
   "execution_count": 139,
   "id": "e045b47d",
   "metadata": {},
   "outputs": [
    {
     "name": "stdout",
     "output_type": "stream",
     "text": [
      "=== 고객 데이터 결측치 ===\n",
      "user_id : 0.0%\n",
      "signup_date : 0.0%\n",
      "gender : 1.3%\n",
      "age_group : 0.7%\n",
      "region : 1.3%\n"
     ]
    }
   ],
   "source": [
    "# 결측치 처리\n",
    "print(\"=== 고객 데이터 결측치 ===\")\n",
    "missing_cus = customers.isna().sum()\n",
    "type(missing_cus)\n",
    "\n",
    "for col in missing_cus.index:\n",
    "  ratio = missing_cus[col] / len(customers) * 100\n",
    "  print(f\"{col} : {ratio:.1f}%\" )"
   ]
  },
  {
   "cell_type": "code",
   "execution_count": 145,
   "id": "232a7986",
   "metadata": {},
   "outputs": [
    {
     "name": "stdout",
     "output_type": "stream",
     "text": [
      "    order_id user_id order_date product_id  qty  unit_price region\n",
      "13   o000014    u061 2024-05-10      p0002    3         NaN  Seoul\n",
      "53   o000054    u034 2024-02-21      p0078    5     12000.0    NaN\n",
      "103  o000104    u124 2024-05-20      p0017    1     12000.0    NaN\n",
      "   product_id category brand\n",
      "13      p0014     tool   NaN\n",
      "33      p0034      NaN  Duro\n",
      "73      p0074     food   NaN\n",
      "    user_id signup_date gender age_group   region\n",
      "10     u011  2023-07-12    NaN       40s  Incheon\n",
      "11     u012  2023-12-23      F       NaN    Seoul\n",
      "12     u013  2023-09-26      M       10s      NaN\n",
      "48     u049  2023-09-05    NaN       10s  Gwangju\n",
      "143    u144  2023-05-30      M       30s      NaN\n"
     ]
    }
   ],
   "source": [
    "# 결측치가 들어있는 행들을 보고 싶음\n",
    "print(orders[orders.isna().any(axis=1)])\n",
    "print(products[products.isna().any(axis=1)])\n",
    "print(customers[customers.isna().any(axis=1)])"
   ]
  },
  {
   "cell_type": "code",
   "execution_count": 152,
   "id": "dfa3bfda",
   "metadata": {},
   "outputs": [],
   "source": [
    "# 고객의 성별 결측치 처리\n",
    "gender_mode = customers['gender'].mode() # gender에 최대빈도\n",
    "customers['gender'] = customers['gender'].fillna(gender_mode)"
   ]
  },
  {
   "cell_type": "code",
   "execution_count": 156,
   "id": "5061f8c4",
   "metadata": {},
   "outputs": [
    {
     "data": {
      "text/html": [
       "<div>\n",
       "<style scoped>\n",
       "    .dataframe tbody tr th:only-of-type {\n",
       "        vertical-align: middle;\n",
       "    }\n",
       "\n",
       "    .dataframe tbody tr th {\n",
       "        vertical-align: top;\n",
       "    }\n",
       "\n",
       "    .dataframe thead th {\n",
       "        text-align: right;\n",
       "    }\n",
       "</style>\n",
       "<table border=\"1\" class=\"dataframe\">\n",
       "  <thead>\n",
       "    <tr style=\"text-align: right;\">\n",
       "      <th></th>\n",
       "      <th>order_id</th>\n",
       "      <th>user_id</th>\n",
       "      <th>order_date</th>\n",
       "      <th>product_id</th>\n",
       "      <th>qty</th>\n",
       "      <th>unit_price</th>\n",
       "      <th>region_x</th>\n",
       "      <th>region_y</th>\n",
       "    </tr>\n",
       "  </thead>\n",
       "  <tbody>\n",
       "    <tr>\n",
       "      <th>0</th>\n",
       "      <td>o000001</td>\n",
       "      <td>u066</td>\n",
       "      <td>2024-02-02</td>\n",
       "      <td>p0010</td>\n",
       "      <td>4</td>\n",
       "      <td>9000.0</td>\n",
       "      <td>Incheon</td>\n",
       "      <td>Seoul</td>\n",
       "    </tr>\n",
       "    <tr>\n",
       "      <th>1</th>\n",
       "      <td>o000002</td>\n",
       "      <td>u072</td>\n",
       "      <td>2024-04-10</td>\n",
       "      <td>p0013</td>\n",
       "      <td>4</td>\n",
       "      <td>9000.0</td>\n",
       "      <td>Incheon</td>\n",
       "      <td>Seoul</td>\n",
       "    </tr>\n",
       "    <tr>\n",
       "      <th>2</th>\n",
       "      <td>o000003</td>\n",
       "      <td>u112</td>\n",
       "      <td>2024-06-21</td>\n",
       "      <td>p0016</td>\n",
       "      <td>4</td>\n",
       "      <td>20000.0</td>\n",
       "      <td>Incheon</td>\n",
       "      <td>Seoul</td>\n",
       "    </tr>\n",
       "    <tr>\n",
       "      <th>3</th>\n",
       "      <td>o000004</td>\n",
       "      <td>u130</td>\n",
       "      <td>2024-06-19</td>\n",
       "      <td>p0008</td>\n",
       "      <td>4</td>\n",
       "      <td>20000.0</td>\n",
       "      <td>Seoul</td>\n",
       "      <td>Seoul</td>\n",
       "    </tr>\n",
       "    <tr>\n",
       "      <th>4</th>\n",
       "      <td>o000005</td>\n",
       "      <td>u079</td>\n",
       "      <td>2024-03-06</td>\n",
       "      <td>p0026</td>\n",
       "      <td>1</td>\n",
       "      <td>30000.0</td>\n",
       "      <td>Incheon</td>\n",
       "      <td>Gwangju</td>\n",
       "    </tr>\n",
       "    <tr>\n",
       "      <th>...</th>\n",
       "      <td>...</td>\n",
       "      <td>...</td>\n",
       "      <td>...</td>\n",
       "      <td>...</td>\n",
       "      <td>...</td>\n",
       "      <td>...</td>\n",
       "      <td>...</td>\n",
       "      <td>...</td>\n",
       "    </tr>\n",
       "    <tr>\n",
       "      <th>2495</th>\n",
       "      <td>o002496</td>\n",
       "      <td>u061</td>\n",
       "      <td>2024-02-04</td>\n",
       "      <td>p0039</td>\n",
       "      <td>4</td>\n",
       "      <td>15000.0</td>\n",
       "      <td>Incheon</td>\n",
       "      <td>Gwangju</td>\n",
       "    </tr>\n",
       "    <tr>\n",
       "      <th>2496</th>\n",
       "      <td>o002497</td>\n",
       "      <td>u050</td>\n",
       "      <td>2024-02-01</td>\n",
       "      <td>p0045</td>\n",
       "      <td>1</td>\n",
       "      <td>12000.0</td>\n",
       "      <td>Seoul</td>\n",
       "      <td>Daegu</td>\n",
       "    </tr>\n",
       "    <tr>\n",
       "      <th>2497</th>\n",
       "      <td>o002498</td>\n",
       "      <td>u080</td>\n",
       "      <td>2024-02-05</td>\n",
       "      <td>p0064</td>\n",
       "      <td>2</td>\n",
       "      <td>9000.0</td>\n",
       "      <td>Gwangju</td>\n",
       "      <td>Gwangju</td>\n",
       "    </tr>\n",
       "    <tr>\n",
       "      <th>2498</th>\n",
       "      <td>o002499</td>\n",
       "      <td>u081</td>\n",
       "      <td>2024-04-12</td>\n",
       "      <td>p0042</td>\n",
       "      <td>3</td>\n",
       "      <td>12000.0</td>\n",
       "      <td>Daegu</td>\n",
       "      <td>Daegu</td>\n",
       "    </tr>\n",
       "    <tr>\n",
       "      <th>2499</th>\n",
       "      <td>o002500</td>\n",
       "      <td>u001</td>\n",
       "      <td>2024-03-15</td>\n",
       "      <td>p0073</td>\n",
       "      <td>5</td>\n",
       "      <td>20000.0</td>\n",
       "      <td>Gwangju</td>\n",
       "      <td>Gwangju</td>\n",
       "    </tr>\n",
       "  </tbody>\n",
       "</table>\n",
       "<p>2500 rows × 8 columns</p>\n",
       "</div>"
      ],
      "text/plain": [
       "     order_id user_id order_date product_id  qty  unit_price region_x region_y\n",
       "0     o000001    u066 2024-02-02      p0010    4      9000.0  Incheon    Seoul\n",
       "1     o000002    u072 2024-04-10      p0013    4      9000.0  Incheon    Seoul\n",
       "2     o000003    u112 2024-06-21      p0016    4     20000.0  Incheon    Seoul\n",
       "3     o000004    u130 2024-06-19      p0008    4     20000.0    Seoul    Seoul\n",
       "4     o000005    u079 2024-03-06      p0026    1     30000.0  Incheon  Gwangju\n",
       "...       ...     ...        ...        ...  ...         ...      ...      ...\n",
       "2495  o002496    u061 2024-02-04      p0039    4     15000.0  Incheon  Gwangju\n",
       "2496  o002497    u050 2024-02-01      p0045    1     12000.0    Seoul    Daegu\n",
       "2497  o002498    u080 2024-02-05      p0064    2      9000.0  Gwangju  Gwangju\n",
       "2498  o002499    u081 2024-04-12      p0042    3     12000.0    Daegu    Daegu\n",
       "2499  o002500    u001 2024-03-15      p0073    5     20000.0  Gwangju  Gwangju\n",
       "\n",
       "[2500 rows x 8 columns]"
      ]
     },
     "execution_count": 156,
     "metadata": {},
     "output_type": "execute_result"
    }
   ],
   "source": [
    "# 데이터 병합 : 주문 + 고객 + 상품데이터\n",
    "df = orders.merge(\n",
    "  customers[['user_id', 'region']], on='user_id'\n",
    ")\n",
    "df"
   ]
  },
  {
   "cell_type": "code",
   "execution_count": null,
   "id": "38e4b30c",
   "metadata": {},
   "outputs": [],
   "source": []
  }
 ],
 "metadata": {
  "kernelspec": {
   "display_name": "venv",
   "language": "python",
   "name": "python3"
  },
  "language_info": {
   "codemirror_mode": {
    "name": "ipython",
    "version": 3
   },
   "file_extension": ".py",
   "mimetype": "text/x-python",
   "name": "python",
   "nbconvert_exporter": "python",
   "pygments_lexer": "ipython3",
   "version": "3.11.9"
  }
 },
 "nbformat": 4,
 "nbformat_minor": 5
}
